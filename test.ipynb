{
 "cells": [
  {
   "cell_type": "markdown",
   "metadata": {},
   "source": [
    "# LAB 6"
   ]
  },
  {
   "cell_type": "code",
   "execution_count": null,
   "metadata": {},
   "outputs": [
    {
     "data": {
      "text/plain": [
       "0"
      ]
     },
     "execution_count": 11,
     "metadata": {},
     "output_type": "execute_result"
    }
   ],
   "source": [
    "import torch\n",
    "\n",
    "# Get the current device\n",
    "torch.cuda.current_device\n",
    "\n",
    "# Get the name of the GPU at device 0\n",
    "torch.cuda.get_device_name(0)\n",
    "\n",
    "# Trả về mức sử dụng bộ nhớ GPU hiện tại theo tensors (tính bằng byte) cho thiết bị\n",
    "torch.cuda.memory_allocated()\n",
    "\n",
    "# Trả về mức sử dụng bộ nhớ GPU hiện tại được quản lý bởi bộ phân bố bộ nhớ (tính theo byte)\n",
    "torch.cuda.memory_reserved()\n"
   ]
  },
  {
   "cell_type": "markdown",
   "metadata": {},
   "source": [
    "## Dataset with pythod"
   ]
  },
  {
   "cell_type": "code",
   "execution_count": 2,
   "metadata": {},
   "outputs": [
    {
     "data": {
      "text/html": [
       "<div>\n",
       "<style scoped>\n",
       "    .dataframe tbody tr th:only-of-type {\n",
       "        vertical-align: middle;\n",
       "    }\n",
       "\n",
       "    .dataframe tbody tr th {\n",
       "        vertical-align: top;\n",
       "    }\n",
       "\n",
       "    .dataframe thead th {\n",
       "        text-align: right;\n",
       "    }\n",
       "</style>\n",
       "<table border=\"1\" class=\"dataframe\">\n",
       "  <thead>\n",
       "    <tr style=\"text-align: right;\">\n",
       "      <th></th>\n",
       "      <th>Id</th>\n",
       "      <th>SepalLengthCm</th>\n",
       "      <th>SepalWidthCm</th>\n",
       "      <th>PetalLengthCm</th>\n",
       "      <th>PetalWidthCm</th>\n",
       "      <th>Species</th>\n",
       "    </tr>\n",
       "  </thead>\n",
       "  <tbody>\n",
       "    <tr>\n",
       "      <th>0</th>\n",
       "      <td>1</td>\n",
       "      <td>5.1</td>\n",
       "      <td>3.5</td>\n",
       "      <td>1.4</td>\n",
       "      <td>0.2</td>\n",
       "      <td>Iris-setosa</td>\n",
       "    </tr>\n",
       "    <tr>\n",
       "      <th>1</th>\n",
       "      <td>2</td>\n",
       "      <td>4.9</td>\n",
       "      <td>3.0</td>\n",
       "      <td>1.4</td>\n",
       "      <td>0.2</td>\n",
       "      <td>Iris-setosa</td>\n",
       "    </tr>\n",
       "    <tr>\n",
       "      <th>2</th>\n",
       "      <td>3</td>\n",
       "      <td>4.7</td>\n",
       "      <td>3.2</td>\n",
       "      <td>1.3</td>\n",
       "      <td>0.2</td>\n",
       "      <td>Iris-setosa</td>\n",
       "    </tr>\n",
       "    <tr>\n",
       "      <th>3</th>\n",
       "      <td>4</td>\n",
       "      <td>4.6</td>\n",
       "      <td>3.1</td>\n",
       "      <td>1.5</td>\n",
       "      <td>0.2</td>\n",
       "      <td>Iris-setosa</td>\n",
       "    </tr>\n",
       "    <tr>\n",
       "      <th>4</th>\n",
       "      <td>5</td>\n",
       "      <td>5.0</td>\n",
       "      <td>3.6</td>\n",
       "      <td>1.4</td>\n",
       "      <td>0.2</td>\n",
       "      <td>Iris-setosa</td>\n",
       "    </tr>\n",
       "  </tbody>\n",
       "</table>\n",
       "</div>"
      ],
      "text/plain": [
       "   Id  SepalLengthCm  SepalWidthCm  PetalLengthCm  PetalWidthCm      Species\n",
       "0   1            5.1           3.5            1.4           0.2  Iris-setosa\n",
       "1   2            4.9           3.0            1.4           0.2  Iris-setosa\n",
       "2   3            4.7           3.2            1.3           0.2  Iris-setosa\n",
       "3   4            4.6           3.1            1.5           0.2  Iris-setosa\n",
       "4   5            5.0           3.6            1.4           0.2  Iris-setosa"
      ]
     },
     "execution_count": 2,
     "metadata": {},
     "output_type": "execute_result"
    }
   ],
   "source": [
    "import torch\n",
    "import numpy as np\n",
    "import pandas as np\n",
    "import matplotlib.pyplot as plt\n",
    "import pandas as pd\n",
    "\n",
    "df = pd.read_csv(\"/Users/macbook/Desktop/Hoc tap/Số hoá/LAB 6/Iris.csv\")\n",
    "df.head()"
   ]
  },
  {
   "cell_type": "code",
   "execution_count": 12,
   "metadata": {},
   "outputs": [
    {
     "data": {
      "text/plain": [
       "(150, 6)"
      ]
     },
     "execution_count": 12,
     "metadata": {},
     "output_type": "execute_result"
    }
   ],
   "source": [
    "df.shape"
   ]
  },
  {
   "cell_type": "code",
   "execution_count": 13,
   "metadata": {},
   "outputs": [
    {
     "name": "stdout",
     "output_type": "stream",
     "text": [
      "train size 120\n"
     ]
    }
   ],
   "source": [
    "from sklearn.preprocessing import LabelEncoder\n",
    "from sklearn.model_selection import train_test_split\n",
    "\n",
    "le = LabelEncoder()\n",
    "X = df.drop([\"Species\"], axis = 1).values\n",
    "y = le.fit_transform(df[\"Species\"].values)\n",
    "\n",
    "# chia dữ liệu với test size = 0.2\n",
    "X_train, X_test, y_train, y_test = train_test_split(X, y, test_size=0.2, random_state=42)\n",
    "X_train = torch.FloatTensor(X_train)\n",
    "X_test = torch.FloatTensor(X_test)\n",
    "y_train = torch.LongTensor(y_train).reshape(-1, 1)\n",
    "y_test = torch.LongTensor(y_test).reshape(-1, 1)\n",
    "\n",
    "print(f\"train size {len(y_train)}\")"
   ]
  },
  {
   "cell_type": "code",
   "execution_count": 14,
   "metadata": {},
   "outputs": [
    {
     "data": {
      "text/plain": [
       "(tensor([0, 1, 2]), tensor([40, 41, 39]))"
      ]
     },
     "execution_count": 14,
     "metadata": {},
     "output_type": "execute_result"
    }
   ],
   "source": [
    "labels, counts = y_train.unique( return_counts=True)\n",
    "labels, counts"
   ]
  },
  {
   "cell_type": "code",
   "execution_count": 15,
   "metadata": {},
   "outputs": [
    {
     "name": "stdout",
     "output_type": "stream",
     "text": [
      "tensor(2., requires_grad=True)\n",
      "None\n",
      "tensor(63., grad_fn=<AddBackward0>)\n"
     ]
    },
    {
     "data": {
      "text/plain": [
       "tensor(93.)"
      ]
     },
     "execution_count": 15,
     "metadata": {},
     "output_type": "execute_result"
    }
   ],
   "source": [
    "# tính đạo hàm bằng pytorch\n",
    "# cho y = 2x^4  + x^3 + 3x^2 + 5X +1\n",
    "# tính y'\n",
    "\n",
    "# tạo một tensor với requirments_grad được đặt thành true\n",
    "X = torch.tensor(2.0, requires_grad=True)\n",
    "print(X)\n",
    "print(X.grad)\n",
    "\n",
    "# Định nghĩa hàm\n",
    "y = 2*X**4 + X**3 + 3*X**2 + 5*X + 1\n",
    "print(y)\n",
    "\n",
    "# thực hiện truyền ngược và tính toán các gradient\n",
    "y.backward()\n",
    "\n",
    "# Kết quả đạo hàm\n",
    "X.grad"
   ]
  },
  {
   "cell_type": "code",
   "execution_count": 18,
   "metadata": {},
   "outputs": [
    {
     "name": "stdout",
     "output_type": "stream",
     "text": [
      "Độ dốc của đa thức tại x = 2 là 1159\n"
     ]
    }
   ],
   "source": [
    "#BT\n",
    "# Cho y = 5x^6 + 3x^3 + 2x^1 + x + 2x + 5x^4 + 1\n",
    "# Cho biết độ dốc của đa thực trên tại điểm nào\n",
    "import sympy as sp\n",
    "\n",
    "# Khai báo biến\n",
    "x = sp.symbols('x')\n",
    "\n",
    "# Định nghĩa hàm đa thức\n",
    "y = 5*x**6 + 5*x**4 + 3*x**3 + 3*x + 1\n",
    "\n",
    "# Tính đạo hàm\n",
    "dy_dx = sp.diff(y, x)\n",
    "\n",
    "# Hiển thị kết quả\n",
    "def slope_at_point(a):\n",
    "    return dy_dx.subs(x, a)\n",
    "\n",
    "# Ví dụ: Tính độ dốc tại x = 2\n",
    "x_value = 2\n",
    "slope = slope_at_point(x_value)\n",
    "print(f\"Độ dốc của đa thức tại x = {x_value} là {slope}\")\n",
    "\n"
   ]
  },
  {
   "cell_type": "code",
   "execution_count": 25,
   "metadata": {},
   "outputs": [
    {
     "name": "stdout",
     "output_type": "stream",
     "text": [
      "Giá trị của dy/dx tại x = 2.0: 25.0\n",
      "Iteration 1: dy/dx = 25.0\n",
      "Iteration 1: x = -0.5\n",
      "Iteration 2: dy/dx = 3.75\n",
      "Iteration 2: x = -0.875\n",
      "Iteration 3: dy/dx = 3.796875\n",
      "Iteration 3: x = -1.2546875476837158\n",
      "Iteration 4: dy/dx = 4.703972339630127\n",
      "Iteration 4: x = -1.7250847816467285\n",
      "Iteration 5: dy/dx = 7.027413368225098\n",
      "Iteration 5: x = -2.427826166152954\n",
      "Iteration 6: dy/dx = 12.971714973449707\n",
      "Iteration 6: x = -3.7249975204467773\n",
      "Iteration 7: dy/dx = 31.726829528808594\n",
      "Iteration 7: x = -6.897680282592773\n",
      "Iteration 8: dy/dx = 120.14325714111328\n",
      "Iteration 8: x = -18.912006378173828\n",
      "Iteration 9: dy/dx = 1002.3439331054688\n",
      "Iteration 9: x = -119.14640808105469\n",
      "Iteration 10: dy/dx = 42116.01171875\n",
      "Iteration 10: x = -4330.74755859375\n"
     ]
    }
   ],
   "source": [
    "#BTVN 1:\n",
    "# Tạo một tensor x có giá trị ban đầu là 2.0\n",
    "# định nghĩa hàm số và tính gradient\n",
    "# y = x^3 + 2x^2 + 5x + 1\n",
    "# Hãy tính dy/dx tại giá trị của x\n",
    "# Dùng phương pháp gradient Descent với learning rate alpha = 0.1 để cập nhật giá trị x trong 10 vòng lặp\n",
    "\n",
    "import torch\n",
    "\n",
    "# Tạo một tensor x có giá trị ban đầu là 2.0\n",
    "x = torch.tensor(2.0, requires_grad=True)\n",
    "\n",
    "# Định nghĩa hàm số\n",
    "def function(x):\n",
    "    return x**3 + 2*x**2 + 5*x + 1\n",
    "\n",
    "# Tính giá trị của hàm số tại x = 2.0\n",
    "y = function(x)\n",
    "\n",
    "# Tính đạo hàm dy/dx\n",
    "y.backward()\n",
    "print(f\"Giá trị của dy/dx tại x = 2.0: {x.grad.item()}\")\n",
    "\n",
    "# Số vòng lặp và learning rate\n",
    "alpha = 0.1\n",
    "num_iterations = 10\n",
    "\n",
    "# Đặt lại giá trị của x và gradient\n",
    "x = torch.tensor(2.0, requires_grad=True)\n",
    "\n",
    "# Vòng lặp cập nhật x bằng Gradient Descent\n",
    "for i in range(num_iterations):\n",
    "    # Tính giá trị của hàm số\n",
    "    y = function(x)\n",
    "    \n",
    "    # Tính gradient\n",
    "    y.backward()\n",
    "    \n",
    "    # In giá trị của dy/dx tại mỗi bước\n",
    "    print(f\"Iteration {i+1}: dy/dx = {x.grad.item()}\")\n",
    "    \n",
    "    # Cập nhật giá trị của x\n",
    "    with torch.no_grad():\n",
    "        x -= alpha * x.grad\n",
    "    \n",
    "    # Đặt lại gradient về 0\n",
    "    x.grad.zero_()\n",
    "    \n",
    "    # In kết quả sau mỗi vòng lặp\n",
    "    print(f\"Iteration {i+1}: x = {x.item()}\")\n",
    "\n"
   ]
  },
  {
   "cell_type": "code",
   "execution_count": 26,
   "metadata": {},
   "outputs": [
    {
     "name": "stdout",
     "output_type": "stream",
     "text": [
      "Iteration 10: Loss = 7.2914, w = 3.8347, b = -0.4341\n",
      "Iteration 20: Loss = 6.7319, w = 3.7989, b = -0.2010\n",
      "Iteration 30: Loss = 6.2175, w = 3.7647, b = 0.0224\n",
      "Iteration 40: Loss = 5.7447, w = 3.7318, b = 0.2367\n",
      "Iteration 50: Loss = 5.3102, w = 3.7003, b = 0.4421\n",
      "Iteration 60: Loss = 4.9107, w = 3.6701, b = 0.6390\n",
      "Iteration 70: Loss = 4.5436, w = 3.6411, b = 0.8278\n",
      "Iteration 80: Loss = 4.2061, w = 3.6134, b = 1.0088\n",
      "Iteration 90: Loss = 3.8958, w = 3.5867, b = 1.1823\n",
      "Iteration 100: Loss = 3.6107, w = 3.5612, b = 1.3487\n",
      "Final parameters: w = 3.5612, b = 1.3487\n"
     ]
    }
   ],
   "source": [
    "#BTVN 2\n",
    "# Tạo một tập dữ liệu với x là số giờ học ngẫu nhiên từ 1 đến 10 và y là số điểm được tính theo công thức y = 3x + 5 + noise\n",
    "# với noise là một giá trị ngẫu nhiên nhỏ\n",
    "# 1.khởi tạo tham số w và b ngẫu nhiên với requires_gradient = True\n",
    "# 2. Tính MSE\n",
    "# 3. TÍnh gradient\n",
    "# 4. Cập nhật tham số w và b bằng gradient descent với learning rate alpha = 0.01\n",
    "# 5. Lặp lại quá trình trên trong 100 vòng lặp và quan sat hội tụ của mô hình\n",
    "\n",
    "import torch\n",
    "import random\n",
    "\n",
    "# Tạo tập dữ liệu\n",
    "num_samples = 100\n",
    "x = torch.tensor([random.uniform(1, 10) for _ in range(num_samples)], dtype=torch.float32)\n",
    "x = x.view(-1, 1)  # Chuyển thành tensor cột\n",
    "noise = torch.tensor([random.uniform(-1, 1) for _ in range(num_samples)], dtype=torch.float32).view(-1, 1)\n",
    "y = 3 * x + 5 + noise  # y = 3x + 5 + noise\n",
    "\n",
    "# Khởi tạo tham số w và b\n",
    "w = torch.randn(1, requires_grad=True)\n",
    "b = torch.randn(1, requires_grad=True)\n",
    "\n",
    "# Learning rate và số vòng lặp\n",
    "alpha = 0.01\n",
    "num_iterations = 100\n",
    "\n",
    "# Hàm tính MSE\n",
    "def mse_loss(y_pred, y_true):\n",
    "    return ((y_pred - y_true) ** 2).mean()\n",
    "\n",
    "# Quá trình huấn luyện\n",
    "for i in range(num_iterations):\n",
    "    # Dự đoán giá trị y\n",
    "    y_pred = w * x + b\n",
    "    \n",
    "    # Tính loss (MSE)\n",
    "    loss = mse_loss(y_pred, y)\n",
    "    \n",
    "    # Tính gradient\n",
    "    loss.backward()\n",
    "    \n",
    "    # Cập nhật tham số bằng gradient descent\n",
    "    with torch.no_grad():\n",
    "        w -= alpha * w.grad\n",
    "        b -= alpha * b.grad\n",
    "    \n",
    "    # Đặt lại gradient về 0\n",
    "    w.grad.zero_()\n",
    "    b.grad.zero_()\n",
    "    \n",
    "    # In loss sau mỗi 10 vòng lặp\n",
    "    if (i + 1) % 10 == 0:\n",
    "        print(f\"Iteration {i+1}: Loss = {loss.item():.4f}, w = {w.item():.4f}, b = {b.item():.4f}\")\n",
    "\n",
    "# In kết quả cuối cùng\n",
    "print(f\"Final parameters: w = {w.item():.4f}, b = {b.item():.4f}\")\n"
   ]
  },
  {
   "cell_type": "code",
   "execution_count": 27,
   "metadata": {},
   "outputs": [
    {
     "name": "stdout",
     "output_type": "stream",
     "text": [
      "[1 2 3 4 5]\n",
      "int64\n",
      "<class 'numpy.ndarray'>\n",
      "tensor([1, 2, 3, 4, 5])\n",
      "torch.int64\n",
      "torch.LongTensor\n",
      "tensor([[ 0.,  1.,  2.],\n",
      "        [ 3.,  4.,  5.],\n",
      "        [ 6.,  7.,  8.],\n",
      "        [ 9., 10., 11.]], dtype=torch.float64)\n",
      "torch.DoubleTensor\n"
     ]
    }
   ],
   "source": [
    "# pytorch with tensor\n",
    "import torch\n",
    "import numpy as np\n",
    "torch.__version__\n",
    "\n",
    "# Chuyển đổi mảng numpy sang tensor pytorch\n",
    "arr = np.array([1,2,3,4,5])\n",
    "print(arr)\n",
    "print(arr.dtype)\n",
    "print(type(arr))\n",
    "\n",
    "x = torch.from_numpy(arr)\n",
    "print(x)\n",
    "print(x.dtype)\n",
    "print(x.type())\n",
    "\n",
    "arr2 = np.arange(0.,12.).reshape(4,3)\n",
    "arr2\n",
    "\n",
    "x2 = torch.from_numpy(arr2)\n",
    "print(x2)\n",
    "print(x2.type())"
   ]
  },
  {
   "cell_type": "code",
   "execution_count": null,
   "metadata": {},
   "outputs": [
    {
     "name": "stdout",
     "output_type": "stream",
     "text": [
      "tensor([0, 1, 2, 3, 4])\n",
      "tensor([99,  1,  2,  3,  4])\n",
      "tensor([0, 1, 2, 3, 4])\n",
      "tensor([0, 1, 2, 3, 4])\n"
     ]
    }
   ],
   "source": [
    "# BTVN 3: giải thích lý do tại sao cho 2 trường hợp trên\n",
    "arr = np.arange(0,5)\n",
    "x = torch.from_numpy(arr)\n",
    "print(x)\n",
    "\n",
    "arr[0] = 99\n",
    "print(x)\n",
    "\n",
    "arr = np.arange(0,5)\n",
    "y = torch.tensor(arr)\n",
    "print(y)\n",
    "\n",
    "arr[0] = 99\n",
    "print(y)\n",
    "\n",
    "'''torch.from_numpy(arr) tạo tensor chia sẻ bộ nhớ với mảng NumPy, nên khi arr thay đổi, tensor cũng thay đổi.\n",
    "torch.tensor(arr) tạo một bản sao độc lập, nên thay đổi arr không ảnh hưởng đến tensor.'''"
   ]
  },
  {
   "cell_type": "code",
   "execution_count": 29,
   "metadata": {},
   "outputs": [
    {
     "name": "stdout",
     "output_type": "stream",
     "text": [
      "Empty Tensor:\n",
      " tensor([[0., 0., 0.],\n",
      "        [0., 0., 0.],\n",
      "        [0., 0., 0.]])\n",
      "\n",
      "Zeros Tensor:\n",
      " tensor([[0., 0., 0.],\n",
      "        [0., 0., 0.],\n",
      "        [0., 0., 0.]])\n",
      "\n",
      "Ones Tensor:\n",
      " tensor([[1., 1., 1.],\n",
      "        [1., 1., 1.],\n",
      "        [1., 1., 1.]])\n",
      "\n",
      "Random Tensor:\n",
      " tensor([[0.8167, 0.0125, 0.7943],\n",
      "        [0.7617, 0.8980, 0.2419],\n",
      "        [0.2522, 0.0574, 0.8276]])\n",
      "\n",
      "Reshaped Tensor with view:\n",
      " tensor([[0.8167, 0.0125, 0.7943, 0.7617, 0.8980, 0.2419, 0.2522, 0.0574, 0.8276]])\n",
      "\n",
      "Reshaped Tensor with view_as:\n",
      " tensor([[0.8167, 0.0125, 0.7943, 0.7617, 0.8980, 0.2419, 0.2522, 0.0574, 0.8276]])\n"
     ]
    }
   ],
   "source": [
    "# BTVN 4: bạn hãy tạo tensor với:\n",
    "# Empyty\n",
    "# Zeros\n",
    "# Ones\n",
    "# Random\n",
    "#Reshape với view và view as\n",
    "\n",
    "import torch\n",
    "\n",
    "# Tạo tensor rỗng (không khởi tạo giá trị)\n",
    "empty_tensor = torch.empty(3, 3)\n",
    "print(\"Empty Tensor:\\n\", empty_tensor)\n",
    "\n",
    "# Tạo tensor toàn số 0\n",
    "zeros_tensor = torch.zeros(3, 3)\n",
    "print(\"\\nZeros Tensor:\\n\", zeros_tensor)\n",
    "\n",
    "# Tạo tensor toàn số 1\n",
    "ones_tensor = torch.ones(3, 3)\n",
    "print(\"\\nOnes Tensor:\\n\", ones_tensor)\n",
    "\n",
    "# Tạo tensor với giá trị ngẫu nhiên\n",
    "random_tensor = torch.rand(3, 3)\n",
    "print(\"\\nRandom Tensor:\\n\", random_tensor)\n",
    "\n",
    "# Reshape tensor bằng view\n",
    "reshaped_tensor = random_tensor.view(1, 9)\n",
    "print(\"\\nReshaped Tensor with view:\\n\", reshaped_tensor)\n",
    "\n",
    "# Reshape tensor bằng view_as (phải có cùng số phần tử)\n",
    "example_tensor = torch.zeros(1, 9)\n",
    "view_as_tensor = random_tensor.view_as(example_tensor)\n",
    "print(\"\\nReshaped Tensor with view_as:\\n\", view_as_tensor)\n"
   ]
  }
 ],
 "metadata": {
  "kernelspec": {
   "display_name": "Python 3",
   "language": "python",
   "name": "python3"
  },
  "language_info": {
   "codemirror_mode": {
    "name": "ipython",
    "version": 3
   },
   "file_extension": ".py",
   "mimetype": "text/x-python",
   "name": "python",
   "nbconvert_exporter": "python",
   "pygments_lexer": "ipython3",
   "version": "3.12.4"
  }
 },
 "nbformat": 4,
 "nbformat_minor": 2
}
